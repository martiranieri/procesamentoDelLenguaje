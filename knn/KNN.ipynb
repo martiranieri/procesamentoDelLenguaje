{
 "cells": [
  {
   "cell_type": "code",
   "execution_count": 18,
   "metadata": {},
   "outputs": [],
   "source": [
    "import numpy as np\n",
    "import pandas as pd\n",
    "from spicy import stats\n",
    "import os\n",
    "from sklearn.neighbors import KNeighborsClassifier\n",
    "\n",
    "%run ../datos/datos.ipynb # me importo dataset"
   ]
  },
  {
   "cell_type": "markdown",
   "metadata": {},
   "source": [
    "Implementación distancia coseno"
   ]
  },
  {
   "cell_type": "code",
   "execution_count": 20,
   "metadata": {},
   "outputs": [],
   "source": [
    "def distCoseno(A,X):\n",
    "  # producto punto de matriz-matriz\n",
    "  prod = A @ X.T  # (entrenamiento x muestras) * (testeo x muestras).T = (entrenamiento x testeo)\n",
    "  \n",
    "  # normas de las filas de A y X\n",
    "  normaA = np.linalg.norm(A, axis=1).reshape(-1, 1)  # (entrenamiento, 1)\n",
    "  normaX = np.linalg.norm(X, axis=1).reshape(1, -1)  # (1, testeo)\n",
    "  \n",
    "  # producto de normas\n",
    "  prodNorm = normaA * normaX  # (entrenamiento, testeo)\n",
    "  \n",
    "  # distancia del coseno\n",
    "  res = 1 - (prod / prodNorm)\n",
    "  \n",
    "  return res"
   ]
  },
  {
   "cell_type": "markdown",
   "metadata": {},
   "source": [
    "Implementación KNN"
   ]
  },
  {
   "cell_type": "code",
   "execution_count": null,
   "metadata": {},
   "outputs": [],
   "source": [
    "def knn(X_train, X_test, y_train, y_test, k, distancia='coseno'): \n",
    "    acertados = 0\n",
    "    \n",
    "    # todas las distancias entre X_train y x_test\n",
    "    if distancia == 'coseno':\n",
    "        distancias = distCoseno(X_train, X_test)  # (entrenamiento x testeo)\n",
    "    elif distancia == 'euclidiana':\n",
    "        distancias = distancia_euclidea(X_train, X_test)  # (entrenamiento x testeo)\n",
    "\n",
    "    # Obtener los índices de los k vecinos más cercanos para cada muestra de prueba\n",
    "    k_indices = np.argsort(distancias, axis=0)[:k]  # (k, testeo)\n",
    "    \n",
    "    # Obtener las etiquetas de los k vecinos más cercanos\n",
    "    k_labels = y_train[k_indices]  # (k, testeo)\n",
    "    \n",
    "    # Calcular la moda (etiqueta más frecuente) a lo largo de los k vecinos para cada muestra de prueba\n",
    "    moda_labels, _ = stats.mode(k_labels, axis=0)\n",
    "    moda_labels = moda_labels.flatten()  # Convertir a vector unidimensional\n",
    "    \n",
    "    # Comparar las etiquetas predichas con las etiquetas reales\n",
    "    acertados = (moda_labels == y_test.flatten()).astype(int)\n",
    "\n",
    "    # Calcular la precisión\n",
    "    res = np.mean(acertados)\n",
    "    \n",
    "    # KNN de sklearn para verificar, si se quiere descomentar\n",
    "    # if distancia == 'coseno':\n",
    "    #     neigh = KNeighborsClassifier(n_neighbors=k, metric='cosine')\n",
    "    # elif distancia == 'euclidiana':\n",
    "    #     neigh = KNeighborsClassifier(n_neighbors=k)\n",
    "    # neigh.fit(X_train, y_train.ravel())\n",
    "    # score = neigh.score(X_test, y_test.ravel())\n",
    "    \n",
    "    # print(f\"- Mi knn: {res}\")\n",
    "    # print(f\"- KNeighborsClassifier: {score}\")\n",
    "    # print(\"-------------------------------\")\n",
    "    \n",
    "    return res"
   ]
  },
  {
   "cell_type": "markdown",
   "metadata": {},
   "source": [
    "Implementación K-Fold (4)"
   ]
  },
  {
   "cell_type": "code",
   "execution_count": 22,
   "metadata": {},
   "outputs": [],
   "source": [
    "def k_fold_4(x_train, y_train, k, distancia='coseno'):\n",
    "    porcentajes_particiones = np.zeros(4)\n",
    "    n = len(x_train)\n",
    "    alto = n // 4\n",
    "    indices = np.arange(n)\n",
    "    \n",
    "    for i in range(4):\n",
    "        test_indices = indices[i * alto: (i + 1) * alto]\n",
    "        train_indices = np.concatenate((indices[:i * alto], indices[(i + 1) * alto:]))\n",
    "\n",
    "        # corremos knn\n",
    "        porcentajes_particiones[i] = knn(x_train[train_indices], x_train[test_indices], \n",
    "                                         y_train[train_indices], y_train[test_indices], k, distancia)\n",
    "\n",
    "    # Calcular y devolver el promedio\n",
    "    return np.mean(porcentajes_particiones)"
   ]
  },
  {
   "cell_type": "markdown",
   "metadata": {},
   "source": [
    "Punto opcional: Comparar KNN con distancia euclídea vs distancia coseno, realizando la búsqueda de hiper-parámetros para cada distancia."
   ]
  },
  {
   "cell_type": "code",
   "execution_count": null,
   "metadata": {},
   "outputs": [],
   "source": [
    "def distancia_euclidea(A, X):\n",
    "    # Cuadrado de las normas (la suma de los cuadrados de cada fila)\n",
    "    normaA = np.linalg.norm(A, axis=1).reshape(-1, 1) \n",
    "    normaX = np.linalg.norm(X, axis=1).reshape(1, -1) \n",
    "    \n",
    "    # Producto punto entre A y X\n",
    "    prod = np.dot(A, X.T)  \n",
    "    \n",
    "    # Aplicando la fórmula: sqrt(x^2 + y^2 - 2xy)\n",
    "    distancias = np.sqrt(normaA**2 + normaX**2 - 2 * prod)\n",
    "    \n",
    "    return distancias"
   ]
  }
 ],
 "metadata": {
  "kernelspec": {
   "display_name": "usr",
   "language": "python",
   "name": "python3"
  },
  "language_info": {
   "codemirror_mode": {
    "name": "ipython",
    "version": 3
   },
   "file_extension": ".py",
   "mimetype": "text/x-python",
   "name": "python",
   "nbconvert_exporter": "python",
   "pygments_lexer": "ipython3",
   "version": "3.10.12"
  }
 },
 "nbformat": 4,
 "nbformat_minor": 2
}
