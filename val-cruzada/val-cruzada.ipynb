{
 "cells": [
  {
   "cell_type": "markdown",
   "metadata": {},
   "source": [
    "### En este calculamos KNN con la base completa (5000 datos)\n"
   ]
  },
  {
   "cell_type": "code",
   "execution_count": 32,
   "metadata": {
    "id": "0Ir_eVKAmuzS"
   },
   "outputs": [],
   "source": [
    "import numpy as np\n",
    "import seaborn as sns\n",
    "import os\n",
    "import matplotlib.pyplot as plt\n",
    "\n",
    "%run ../val-cruzada/pca.ipynb\n",
    "%run ../knn/KNN.ipynb\n",
    "%run ../datos/datos.ipynb # me importo dataset"
   ]
  },
  {
   "cell_type": "markdown",
   "metadata": {},
   "source": [
    "## Validación cruzada "
   ]
  },
  {
   "cell_type": "markdown",
   "metadata": {},
   "source": [
    "Calculo PCA de cada partición y lo guardo en un txt para ahorrar tiempos"
   ]
  },
  {
   "cell_type": "code",
   "execution_count": 4,
   "metadata": {},
   "outputs": [],
   "source": [
    "def particiones(x_train):\n",
    "    n = len(x_train)\n",
    "    alto = n // 4\n",
    "    indices = np.arange(n)\n",
    "    \n",
    "    for i in range(4):\n",
    "        train_indices = np.concatenate((indices[:i * alto], indices[(i + 1) * alto:]))\n",
    "\n",
    "        # Hago pca con x_actual_train y reduzco componentes principales\n",
    "        # en pca genero los txt\n",
    "        pca(x_train[train_indices], i)\n",
    "        \n",
    "    return\n",
    "# particiones(X_train)"
   ]
  },
  {
   "cell_type": "markdown",
   "metadata": {},
   "source": [
    "Calculos del todos los pares p y k "
   ]
  },
  {
   "cell_type": "code",
   "execution_count": null,
   "metadata": {},
   "outputs": [],
   "source": [
    "# Función para calcular promedios\n",
    "def k_fold(x_train, y_train, distancia):\n",
    "    n = len(x_train)\n",
    "    alto = n // 4\n",
    "    indices = np.arange(n)\n",
    "    \n",
    "    matriz_rendimientos = np.zeros((len(intentos_p), len(intentos_k)))\n",
    "    \n",
    "    \n",
    "    for i in range(4):\n",
    "        test_indices = indices[i * alto: (i + 1) * alto]\n",
    "        train_indices = np.concatenate((indices[:i * alto], indices[(i + 1) * alto:]))\n",
    "        # np.random.shuffle(train_indices)\n",
    "        \n",
    "        autovectores_train = np.loadtxt(f'../val-cruzada/particiones/autovectores_cov{i}.txt')\n",
    "        \n",
    "        for p_idx, p in enumerate(intentos_p):\n",
    "            x_autovectoresActual = autovectores_train[:, :p]\n",
    "            \n",
    "            # Centralizar los datos de entrenamiento y prueba para esta partición\n",
    "            x_train_centralizado = centralizar(x_train[train_indices])\n",
    "            x_test_centralizado = centralizar(x_train[test_indices])\n",
    "            \n",
    "            # Reducir dimensionalidad usando los autovectores seleccionados\n",
    "            x_auto_red = np.dot(x_train_centralizado, x_autovectoresActual)\n",
    "            x_test_red = np.dot(x_test_centralizado, x_autovectoresActual)\n",
    "\n",
    "            for k_idx, k in enumerate(intentos_k):\n",
    "                rendimiento = knn(x_auto_red, x_test_red, y_train[train_indices], y_train[test_indices], k, distancia)\n",
    "                matriz_rendimientos[p_idx, k_idx] += rendimiento\n",
    "\n",
    "    matriz_rendimientos /= 4  # Promedio a través de las 4 particiones\n",
    "    return matriz_rendimientos"
   ]
  },
  {
   "cell_type": "markdown",
   "metadata": {},
   "source": [
    "Nos quedamos con valor medio de p y menor k"
   ]
  },
  {
   "cell_type": "code",
   "execution_count": 7,
   "metadata": {},
   "outputs": [],
   "source": [
    "def mejorPar(intentos_p, intentos_k, matriz_rendimientos):\n",
    "    # Encontrar los índices del valor máximo en la matriz de rendimientos\n",
    "    max_rendimiento = np.max(matriz_rendimientos)\n",
    "    indices_maximos = np.argwhere(matriz_rendimientos == max_rendimiento)\n",
    "\n",
    "    # Nos quedamos con el punto medio del rango de p\n",
    "    min_p, max_p = np.min(intentos_p), np.max(intentos_p)\n",
    "    punto_medio_p = (min_p + max_p) / 2\n",
    "    menor_diferencia_p = float('inf')\n",
    "    mejor_p = mejor_k = None\n",
    "\n",
    "    # Selecciona el mejor par (p, k) con el p más cercano al punto medio\n",
    "    for indice in indices_maximos:\n",
    "        p_idx, k_idx = indice\n",
    "        p, k = intentos_p[p_idx], intentos_k[k_idx]\n",
    "        diferencia_p = abs(p - punto_medio_p)\n",
    "\n",
    "        if (diferencia_p < menor_diferencia_p or (diferencia_p == menor_diferencia_p and k < mejor_k)):\n",
    "            mejor_p = p\n",
    "            mejor_k = k\n",
    "            menor_diferencia_p = diferencia_p\n",
    "\n",
    "    print(f\"Mejor par encontrado: (p = {mejor_p}, k = {mejor_k})\")\n",
    "    return mejor_p, mejor_k\n"
   ]
  },
  {
   "cell_type": "code",
   "execution_count": 1,
   "metadata": {},
   "outputs": [],
   "source": [
    "def evaluar_mejor_modelo(x_train, y_train, x_test, y_test, p, k, distancia):\n",
    "    # Aplicar PCA con int(p)\n",
    "    autovectores_train = np.loadtxt(f'../pca/covarianza-c/autovectores_cov.txt')\n",
    "    \n",
    "    x_train_pca = np.dot(x_train, autovectores_train[:, :int(p)])\n",
    "    x_test_pca = np.dot(x_test, autovectores_train[:, :int(p)])\n",
    "    \n",
    "    # Evaluar rendimiento con kNN usando int(k)\n",
    "    rendimiento = knn(x_train_pca, x_test_pca, y_train, y_test, int(k), distancia)\n",
    "    return rendimiento"
   ]
  },
  {
   "cell_type": "markdown",
   "metadata": {},
   "source": [
    "Para guardar los resultados en un txt"
   ]
  },
  {
   "cell_type": "code",
   "execution_count": 52,
   "metadata": {},
   "outputs": [],
   "source": [
    "def guardar(rendimientos, distancia, mejor_p, mejor_k):\n",
    "    mejor_p_k_file = f'../val-cruzada/resultados/mejor_p_k_{distancia}.txt'\n",
    "    matriz_rendimientos_file = f'../val-cruzada/resultados/matriz_rendimientos_{distancia}.txt'\n",
    "\n",
    "    # Borro txt viejo\n",
    "    for file_path in [mejor_p_k_file, matriz_rendimientos_file]:\n",
    "        if os.path.exists(file_path):\n",
    "            os.remove(file_path)\n",
    "\n",
    "    # guardo mejor_p and mejor_k\n",
    "    with open(mejor_p_k_file, 'a') as f:\n",
    "        np.savetxt(f, [[mejor_p, mejor_k]], fmt='%.6f')\n",
    "\n",
    "    # guardo rendimientos\n",
    "    with open(matriz_rendimientos_file, 'a') as f:\n",
    "        np.savetxt(f, rendimientos, fmt='%.6f', delimiter=' ')"
   ]
  }
 ],
 "metadata": {
  "colab": {
   "provenance": []
  },
  "kernelspec": {
   "display_name": "Python 3",
   "language": "python",
   "name": "python3"
  },
  "language_info": {
   "codemirror_mode": {
    "name": "ipython",
    "version": 3
   },
   "file_extension": ".py",
   "mimetype": "text/x-python",
   "name": "python",
   "nbconvert_exporter": "python",
   "pygments_lexer": "ipython3",
   "version": "3.10.12"
  }
 },
 "nbformat": 4,
 "nbformat_minor": 0
}
