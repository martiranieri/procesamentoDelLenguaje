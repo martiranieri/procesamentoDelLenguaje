{
 "cells": [
  {
   "cell_type": "code",
   "execution_count": 1,
   "metadata": {},
   "outputs": [],
   "source": [
    "import numpy as np\n",
    "from sklearn.feature_extraction.text import TfidfTransformer\n",
    "\n",
    "%run ../datos/datos.ipynb"
   ]
  },
  {
   "cell_type": "markdown",
   "metadata": {},
   "source": [
    "### Punto opcional: Implemetación de TF-IDF "
   ]
  },
  {
   "cell_type": "code",
   "execution_count": 13,
   "metadata": {},
   "outputs": [],
   "source": [
    "def tf_idf(A):\n",
    "    longitudes_documentos = A.sum(axis=1, keepdims=True)  # Suma por filas para obtener la longitud\n",
    "    TF = A / longitudes_documentos  # Calcular TF\n",
    "\n",
    "    N = A.shape[0]  # Total de documentos\n",
    "    df = np.sum(A > 0, axis=0)  # Número de documentos que contienen cada término\n",
    "    # Evitar división por cero al calcular IDF\n",
    "    IDF = np.log(N / (df + 1))  # Usamos +1 para evitar log(0)\n",
    "\n",
    "    TF_IDF = TF * IDF  \n",
    "    return TF_IDF"
   ]
  }
 ],
 "metadata": {
  "kernelspec": {
   "display_name": "usr",
   "language": "python",
   "name": "python3"
  },
  "language_info": {
   "codemirror_mode": {
    "name": "ipython",
    "version": 3
   },
   "file_extension": ".py",
   "mimetype": "text/x-python",
   "name": "python",
   "nbconvert_exporter": "python",
   "pygments_lexer": "ipython3",
   "version": "3.10.12"
  }
 },
 "nbformat": 4,
 "nbformat_minor": 2
}
