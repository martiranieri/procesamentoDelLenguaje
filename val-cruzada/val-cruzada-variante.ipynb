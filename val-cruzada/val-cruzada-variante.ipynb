{
 "cells": [
  {
   "cell_type": "code",
   "execution_count": null,
   "metadata": {},
   "outputs": [],
   "source": [
    "import numpy as np\n",
    "from scipy import stats\n",
    "\n",
    "%run ../val-cruzada/pca.ipynb\n",
    "%run ../knn/KNN.ipynb"
   ]
  },
  {
   "cell_type": "markdown",
   "metadata": {},
   "source": [
    "Algortimo igual que carpeta knn pero en lugar de devolver el % devuelve el vector de las predicciones"
   ]
  },
  {
   "cell_type": "code",
   "execution_count": null,
   "metadata": {},
   "outputs": [],
   "source": [
    "def knn_predict(X_train, X_test, y_train, k, distancia='coseno'):\n",
    "    # Todas las distancias entre X_train y X_test\n",
    "    if distancia == 'coseno':\n",
    "        distancias = distCoseno(X_train, X_test)  # (entrenamiento x testeo)\n",
    "    elif distancia == 'euclidiana':\n",
    "        distancias = distancia_euclidea(X_train, X_test)  # (entrenamiento x testeo)\n",
    "\n",
    "    # Obtener los índices de los k vecinos más cercanos para cada muestra de prueba\n",
    "    k_indices = np.argsort(distancias, axis=0)[:k]  # (k, testeo)\n",
    "    \n",
    "    # Obtener las etiquetas de los k vecinos más cercanos\n",
    "    k_labels = y_train[k_indices]  # (k, testeo)\n",
    "    \n",
    "    # Calcular la moda (etiqueta más frecuente) a lo largo de los k vecinos para cada muestra de prueba\n",
    "    moda_labels, _ = stats.mode(k_labels, axis=0)\n",
    "    \n",
    "    return moda_labels.flatten() "
   ]
  },
  {
   "cell_type": "markdown",
   "metadata": {},
   "source": [
    "### Punto opcional: Variante de validación cruzada "
   ]
  },
  {
   "cell_type": "code",
   "execution_count": null,
   "metadata": {},
   "outputs": [],
   "source": [
    "\n",
    "def k_fold_cross_variante(x_train, y_train, distancia='coseno'):\n",
    "    n = len(x_train)\n",
    "    alto = n // 4\n",
    "    indices = np.arange(n)\n",
    "    \n",
    "    # Almacena todas las predicciones\n",
    "    todas_predicciones = np.zeros((len(intentos_p), len(intentos_k), n))\n",
    "\n",
    "    for i in range(4):\n",
    "        # Separar en índices de prueba y de entrenamiento para el fold actual\n",
    "        test_indices = indices[i * alto: (i + 1) * alto]\n",
    "        train_indices = np.concatenate((indices[:i * alto], indices[(i + 1) * alto:]))\n",
    "        \n",
    "        # Cargar los autovectores correspondientes a esta partición\n",
    "        autovectores_train = np.loadtxt(f'../val-cruzada/particiones/autovectores_cov{i}.txt')\n",
    "        \n",
    "        for p_idx, p in enumerate(intentos_p):\n",
    "            # Seleccionar los p autovectores y reducir la dimensionalidad\n",
    "            x_autovectoresActual = autovectores_train[:, :p]\n",
    "            x_train_centralizado = centralizar(x_train[train_indices])\n",
    "            x_test_centralizado = centralizar(x_train[test_indices])\n",
    "            \n",
    "            # Reducir dimensionalidad\n",
    "            x_auto_red = np.dot(x_train_centralizado, x_autovectoresActual)\n",
    "            x_test_red = np.dot(x_test_centralizado, x_autovectoresActual)\n",
    "\n",
    "            for k_idx, k in enumerate(intentos_k):\n",
    "                # Realizar predicciones y almacenarlas en todas_predicciones\n",
    "                predictions = knn_predict(x_auto_red, x_test_red, y_train[train_indices], k, distancia)\n",
    "                todas_predicciones[p_idx, k_idx, test_indices] = predictions\n",
    "\n",
    "    # Matriz de rendimientos\n",
    "    matriz_rendimientos = np.zeros((len(intentos_p), len(intentos_k)))\n",
    "\n",
    "    # Calcular el rendimiento global combinando todos los datos de prueba\n",
    "    for p_idx in range(len(intentos_p)):\n",
    "        for k_idx in range(len(intentos_k)):\n",
    "            res = todas_predicciones[p_idx, k_idx, :] == y_train.flatten()\n",
    "            matriz_rendimientos[p_idx, k_idx] = np.mean(res)\n",
    "            \n",
    "    return matriz_rendimientos\n"
   ]
  }
 ],
 "metadata": {
  "kernelspec": {
   "display_name": "usr",
   "language": "python",
   "name": "python3"
  },
  "language_info": {
   "codemirror_mode": {
    "name": "ipython",
    "version": 3
   },
   "file_extension": ".py",
   "mimetype": "text/x-python",
   "name": "python",
   "nbconvert_exporter": "python",
   "pygments_lexer": "ipython3",
   "version": "3.10.12"
  }
 },
 "nbformat": 4,
 "nbformat_minor": 2
}
