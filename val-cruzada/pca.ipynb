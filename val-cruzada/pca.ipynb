{
  "cells": [
    {
      "cell_type": "code",
      "execution_count": 1,
      "metadata": {
        "id": "YsCKqDR_NMaX"
      },
      "outputs": [],
      "source": [
        "import numpy as np\n",
        "import os\n",
        "import subprocess\n",
        "\n",
        "%run ../potencia-deflacion/met-potencia.ipynb # me importo eigen y power_iteration\n",
        "%run ../datos/datos.ipynb # me importo dataset"
      ]
    },
    {
      "cell_type": "markdown",
      "metadata": {},
      "source": [
        "Código de PCA para que me genere los txt de las particiones (es el mismo algortimo que en carpeta pca)"
      ]
    },
    {
      "cell_type": "code",
      "execution_count": 2,
      "metadata": {},
      "outputs": [],
      "source": [
        "def centralizar(x):\n",
        "    return x - np.mean(x, axis=0)"
      ]
    },
    {
      "cell_type": "code",
      "execution_count": 3,
      "metadata": {
        "id": "rpd11_uWQMOo"
      },
      "outputs": [],
      "source": [
        "def pca(A, i):\n",
        "    # Compile the C++ code if needed\n",
        "    subprocess.run([\n",
        "        'g++', '-o', f'../val-cruzada/datos/met_potencia', '../potencia-deflacion/met_potencia.cpp',\n",
        "        '-std=c++11', '-I', 'Eigen', '-O3'\n",
        "    ])\n",
        "\n",
        "    X = centralizar(A)\n",
        "\n",
        "    # Covariance matrix\n",
        "    cov_matriz = (1 / (len(X) - 1)) * np.dot(X.T, X)\n",
        "\n",
        "    # Save covariance matrix to a file\n",
        "    cov_matrix_file = f'../val-cruzada/particiones/matriz_cov_entrada{i}.txt'\n",
        "    if os.path.exists(cov_matrix_file):\n",
        "        os.remove(cov_matrix_file)\n",
        "\n",
        "    with open(cov_matrix_file, 'a') as f:\n",
        "        f.write(f\"{cov_matriz.shape[0]} {cov_matriz.shape[1]}\\n\")  # Size of the matrix\n",
        "        np.savetxt(f, cov_matriz, newline=\"\\n\")\n",
        "\n",
        "    # Run the C++ program to compute eigenvalues and eigenvectors\n",
        "    result = subprocess.run([\n",
        "        \"../val-cruzada/datos/met_potencia\", cov_matrix_file\n",
        "    ], stdout=subprocess.PIPE)\n",
        "\n",
        "    # Load the results from the output file\n",
        "    output_file = f'../val-cruzada/particiones/matriz_cov_salida{i}.txt'\n",
        "    if os.path.exists(output_file):\n",
        "        os.remove(output_file)\n",
        "\n",
        "    with open(output_file, \"a\") as output:\n",
        "        output.write(result.stdout.decode('utf-8'))\n",
        "\n",
        "    arr = np.loadtxt(output_file)\n",
        "\n",
        "    # Extract eigenvalues and eigenvectors\n",
        "    eigenvalues = arr[1]  # Eigenvalues\n",
        "    eigenvectors = np.delete(arr, [0, 1], axis=0)  # Eigenvectors as columns\n",
        "\n",
        "    # Sort eigenvalues and eigenvectors\n",
        "    sorted_indices = np.argsort(eigenvalues)[::-1]\n",
        "    autovalores_ord = eigenvalues[sorted_indices]\n",
        "    autovectores_ord = eigenvectors[:, sorted_indices]\n",
        "\n",
        "    # Save sorted eigenvectors\n",
        "    eigenvector_file = f'../val-cruzada/particiones/autovectores_cov{i}.txt'\n",
        "    if os.path.exists(eigenvector_file):\n",
        "        os.remove(eigenvector_file)\n",
        "\n",
        "    with open(eigenvector_file, 'a') as f:\n",
        "        np.savetxt(f, autovectores_ord, newline=\"\\n\")\n",
        "\n",
        "    # Save sorted eigenvalues\n",
        "    eigenvalue_file = f'../val-cruzada/particiones/autovalores_cov{i}.txt'\n",
        "    if os.path.exists(eigenvalue_file):\n",
        "        os.remove(eigenvalue_file)\n",
        "\n",
        "    with open(eigenvalue_file, 'a') as f:\n",
        "        np.savetxt(f, autovalores_ord)\n",
        "\n",
        "    return autovalores_ord, autovectores_ord"
      ]
    }
  ],
  "metadata": {
    "colab": {
      "provenance": []
    },
    "kernelspec": {
      "display_name": "usr",
      "language": "python",
      "name": "python3"
    },
    "language_info": {
      "codemirror_mode": {
        "name": "ipython",
        "version": 3
      },
      "file_extension": ".py",
      "mimetype": "text/x-python",
      "name": "python",
      "nbconvert_exporter": "python",
      "pygments_lexer": "ipython3",
      "version": "3.10.12"
    }
  },
  "nbformat": 4,
  "nbformat_minor": 0
}
