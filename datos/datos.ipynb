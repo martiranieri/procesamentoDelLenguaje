{
 "cells": [
  {
   "cell_type": "code",
   "execution_count": 9,
   "metadata": {},
   "outputs": [],
   "source": [
    "import numpy as np\n",
    "from spicy import stats\n",
    "import pandas as pd"
   ]
  },
  {
   "cell_type": "code",
   "execution_count": null,
   "metadata": {},
   "outputs": [],
   "source": [
    "class_names = [\"crime\", \"romance\", \"science fiction\", \"western\"]\n",
    "\n",
    "df = pd.read_csv(\"../datos/wiki_movie_plots_deduped_sample.csv\")"
   ]
  },
  {
   "cell_type": "code",
   "execution_count": 11,
   "metadata": {},
   "outputs": [],
   "source": [
    "def leerDatos(dimension):\n",
    "    # nos quedamos con todos los tokens\n",
    "    tokens = np.hstack(df[\"tokens\"].apply(lambda x: x.split()).values)\n",
    "\n",
    "    # contamos la frecuencia y nos quedamos con los 1000 más frecuentes\n",
    "    unique_tokens = pd.Series(tokens).value_counts().index[:dimension].values\n",
    "\n",
    "    # hacemos diccionario que mapea de 0 a 999\n",
    "    unique_tokens_dict = dict(zip(unique_tokens, range(len(unique_tokens))))\n",
    "\n",
    "    # incializamos matriz\n",
    "    X = np.zeros((len(df), len(unique_tokens)), dtype=int)\n",
    "\n",
    "    # llenamos matriz de conteo\n",
    "    for i, row in df.iterrows():\n",
    "        for token in row[\"tokens\"].split():\n",
    "            if unique_tokens_dict.get(token,False)!=False:\n",
    "                X[i, unique_tokens_dict[token]] += 1\n",
    "    return X"
   ]
  },
  {
   "cell_type": "code",
   "execution_count": 12,
   "metadata": {},
   "outputs": [],
   "source": [
    "\n",
    "def divisionEntrenoYTesteo(dimension):\n",
    "\n",
    "    train_indices = df[df[\"split\"] == \"train\"].index\n",
    "    test_indices = df[df[\"split\"] == \"test\"].index\n",
    "    \n",
    "    X = leerDatos(dimension)\n",
    "\n",
    "    X_train = X[train_indices]\n",
    "    X_test = X[test_indices]\n",
    "\n",
    "    y_train = df[df[\"split\"] == \"train\"][\"Genre\"]\n",
    "    y_test = df[df[\"split\"] == \"test\"][\"Genre\"]\n",
    "\n",
    "    # Mapeo de géneros a números\n",
    "    genero_a_numero = {\n",
    "        \"crime\": 0,\n",
    "        \"romance\": 1,\n",
    "        \"science fiction\": 2,\n",
    "        \"western\": 3\n",
    "    }\n",
    "\n",
    "    # Convertir y_train a números\n",
    "    y_train_numerico = np.array([genero_a_numero[genero] for genero in y_train]).reshape(320, 1)\n",
    "    y_test_numerico = np.array([genero_a_numero[genero] for genero in y_test]).reshape(80, 1)\n",
    "    \n",
    "    return X_train, y_train_numerico, X_test, y_test_numerico\n"
   ]
  },
  {
   "cell_type": "code",
   "execution_count": 13,
   "metadata": {},
   "outputs": [],
   "source": [
    "def datosConDistribucion(dimension):\n",
    "    X_train, y_train_numerico, X_test, y_test_numerico = divisionEntrenoYTesteo(dimension)\n",
    "    \n",
    "    num_generos = 4  # Tienes 4 géneros\n",
    "    num_peliculas_por_genero = 80  #  en train\n",
    "\n",
    "    # Inicializar una lista para almacenar los índices intercalados\n",
    "    indices_intercalados_train = []\n",
    "    indices_intercalados_test = []\n",
    "\n",
    "    # Generar los índices intercalados para obtener el patrón 0, 1, 2, 3, 0, 1, 2, 3, ...\n",
    "    for i in range(num_peliculas_por_genero):  # Iterar sobre los géneros\n",
    "        for j in range(num_generos):  # Iterar sobre las películas por género\n",
    "            indices_intercalados_train.append((j * num_peliculas_por_genero) + i)\n",
    "    \n",
    "    num_peliculas_por_genero = 20 # en test\n",
    "    for i in range(num_peliculas_por_genero):  # Iterar sobre los géneros\n",
    "        for j in range(num_generos):  # Iterar sobre las películas por género\n",
    "            indices_intercalados_test.append((j * num_peliculas_por_genero) + i)\n",
    "\n",
    "    # Convertir la lista a arreglo numpy para usar en el reordenamiento\n",
    "    indices_intercalados_train = np.array(indices_intercalados_train)\n",
    "    indices_intercalados_test = np.array(indices_intercalados_test)\n",
    "\n",
    "    # Reordenar y_train_numerico y matriz_conteo según los índices intercalados\n",
    "    y_train_numerico_reordenada = y_train_numerico[indices_intercalados_train]\n",
    "    X_train_reordenada = X_train[indices_intercalados_train]\n",
    "    \n",
    "    y_test_numerico_reordenada = y_train_numerico[indices_intercalados_test]\n",
    "    X_test_reordenada = X_train[indices_intercalados_test]\n",
    "    \n",
    "    return X_train_reordenada, y_train_numerico_reordenada, X_test_reordenada, y_test_numerico_reordenada"
   ]
  }
 ],
 "metadata": {
  "kernelspec": {
   "display_name": "usr",
   "language": "python",
   "name": "python3"
  },
  "language_info": {
   "codemirror_mode": {
    "name": "ipython",
    "version": 3
   },
   "file_extension": ".py",
   "mimetype": "text/x-python",
   "name": "python",
   "nbconvert_exporter": "python",
   "pygments_lexer": "ipython3",
   "version": "3.10.12"
  }
 },
 "nbformat": 4,
 "nbformat_minor": 2
}
