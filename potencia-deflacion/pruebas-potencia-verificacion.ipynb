{
 "cells": [
  {
   "cell_type": "code",
   "execution_count": 7,
   "metadata": {},
   "outputs": [],
   "source": [
    "import numpy as np\n",
    "import random # para testear\n",
    "\n",
    "%run met-potencia.ipynb # me importo eigen y power_iteration"
   ]
  },
  {
   "cell_type": "markdown",
   "metadata": {},
   "source": [
    "### Pruebas de que anda método de la potencia con deflación (python)"
   ]
  },
  {
   "cell_type": "markdown",
   "metadata": {},
   "source": [
    "#### 2x2"
   ]
  },
  {
   "cell_type": "code",
   "execution_count": 8,
   "metadata": {},
   "outputs": [
    {
     "name": "stdout",
     "output_type": "stream",
     "text": [
      "1.999999999999984 [0.6000001  0.79999985]\n",
      "True\n",
      "1.000000000000031 [ 0.79999993 -0.6000002 ]\n",
      "True\n"
     ]
    }
   ],
   "source": [
    "D2 = np.diag([1, 2])\n",
    "\n",
    "v2 = np.random.randint(2, 10, size=len(D2)) \n",
    "\n",
    "v2 = v2 / np.linalg.norm(v2)\n",
    "\n",
    "# Matriz de Householder\n",
    "v2 = np.reshape(v2, (2,1))\n",
    "\n",
    "B2 = np.eye(D2.shape[0]) - 2 * (v2 @ v2.T)\n",
    "\n",
    "# Matriz a diagonalizar\n",
    "M2 = B2.T @ D2 @ B2\n",
    "\n",
    "w2, V2 = eigen(M2)\n",
    "\n",
    "for i in range(len(M2)):\n",
    "    print(w2[i], V2[i])\n",
    "    print(np.allclose(M2 @ V2[:, i], w2[i] * V2[:,i]))"
   ]
  },
  {
   "cell_type": "markdown",
   "metadata": {},
   "source": [
    "#### 3x3"
   ]
  },
  {
   "cell_type": "code",
   "execution_count": 9,
   "metadata": {},
   "outputs": [
    {
     "name": "stdout",
     "output_type": "stream",
     "text": [
      "5.999999999999982 [0.02400004 0.64000006 0.76799989]\n",
      "True\n",
      "2.0000000000000435 [ 0.76800003  0.47999981 -0.42400008]\n",
      "True\n",
      "1.0000000000000147 [ 0.63999996 -0.60000008  0.4800001 ]\n",
      "True\n"
     ]
    }
   ],
   "source": [
    "D3 = np.diag([6, 1, 2])\n",
    "\n",
    "v3 = np.random.randint(2, 10, size=len(D3)) \n",
    "\n",
    "v3 = v3 / np.linalg.norm(v3)\n",
    "\n",
    "# Matriz de Householder\n",
    "v3 = np.reshape(v3, (len(D3),1))\n",
    "\n",
    "B3 = np.eye(D3.shape[0]) - 2 * (v3 @ v3.T)\n",
    "\n",
    "# Matriz a diagonalizar\n",
    "M3 = B3.T @ D3 @ B3\n",
    "\n",
    "w3, V3 = eigen(M3)\n",
    "\n",
    "\n",
    "for i in range(len(M3)):\n",
    "    print(w3[i], V3[i])\n",
    "    print(np.allclose(M3 @ V3[:, i], w3[i] * V3[:,i]))"
   ]
  },
  {
   "cell_type": "markdown",
   "metadata": {},
   "source": [
    "#### 5x5"
   ]
  },
  {
   "cell_type": "code",
   "execution_count": 10,
   "metadata": {},
   "outputs": [
    {
     "name": "stdout",
     "output_type": "stream",
     "text": [
      "9.999999999999845 [ 0.33613454  0.42016802  0.58823523 -0.16806716 -0.57983189]\n",
      "True\n",
      "6.000000000000226 [-0.73109237  0.33613474  0.47058819 -0.13445364  0.33613448]\n",
      "True\n",
      "3.000000000000041 [ 0.33613434 -0.57983198  0.58823544 -0.16806705  0.42016811]\n",
      "True\n",
      "2.0000000000000213 [0.13445381 0.16806721 0.23529394 0.93277318 0.16806702]\n",
      "True\n",
      "1.000000000000026 [ 0.47058835  0.58823512 -0.17647067 -0.23529409  0.58823535]\n",
      "True\n"
     ]
    }
   ],
   "source": [
    "D5 = np.diag([1, 10, 6, 2, 3])\n",
    "\n",
    "v5 = np.random.randint(2, 10, size=len(D5)) \n",
    "\n",
    "v5 = v5 / np.linalg.norm(v5)\n",
    "\n",
    "# Matriz de Householder\n",
    "v5 = np.reshape(v5, (len(D5),1))\n",
    "\n",
    "B5 = np.eye(D5.shape[0]) - 2 * (v5 @ v5.T)\n",
    "\n",
    "# Matriz a diagonalizar\n",
    "M5 = B5.T @ D5 @ B5\n",
    "\n",
    "w5, V5 = eigen(M5)\n",
    "\n",
    "\n",
    "for i in range(len(M5)):\n",
    "    print(w5[i], V5[i])\n",
    "    print(np.allclose(M5 @ V5[:, i], w5[i] * V5[:,i], atol=1e-7))"
   ]
  },
  {
   "cell_type": "markdown",
   "metadata": {},
   "source": [
    "#### Una más Grande"
   ]
  },
  {
   "cell_type": "code",
   "execution_count": 11,
   "metadata": {},
   "outputs": [
    {
     "name": "stdout",
     "output_type": "stream",
     "text": [
      "True\n",
      "False\n",
      "False\n",
      "False\n",
      "False\n",
      "False\n",
      "True\n",
      "True\n",
      "True\n",
      "True\n",
      "False\n",
      "False\n",
      "False\n",
      "False\n",
      "False\n",
      "False\n",
      "False\n",
      "False\n",
      "True\n",
      "True\n",
      "False\n",
      "False\n",
      "False\n",
      "True\n",
      "True\n",
      "True\n",
      "True\n",
      "True\n",
      "False\n",
      "False\n",
      "False\n",
      "False\n",
      "False\n",
      "True\n",
      "False\n",
      "False\n",
      "True\n",
      "True\n",
      "True\n",
      "True\n",
      "True\n",
      "True\n",
      "True\n",
      "True\n",
      "True\n",
      "True\n",
      "True\n",
      "True\n",
      "True\n",
      "True\n",
      "True\n",
      "True\n",
      "True\n",
      "True\n",
      "True\n",
      "True\n",
      "True\n",
      "True\n",
      "True\n",
      "True\n",
      "True\n",
      "True\n",
      "False\n",
      "False\n",
      "False\n",
      "False\n",
      "True\n",
      "True\n",
      "True\n",
      "False\n",
      "False\n",
      "False\n",
      "True\n",
      "True\n",
      "True\n",
      "True\n",
      "True\n",
      "True\n",
      "False\n",
      "False\n",
      "False\n",
      "False\n",
      "False\n",
      "True\n",
      "True\n",
      "True\n",
      "True\n",
      "False\n",
      "True\n",
      "False\n",
      "False\n",
      "False\n",
      "False\n",
      "False\n",
      "False\n",
      "False\n",
      "False\n",
      "False\n",
      "False\n",
      "False\n"
     ]
    }
   ],
   "source": [
    "arr200 = random.sample(range(500), 100)\n",
    "\n",
    "D200 = np.diag(arr200)\n",
    "\n",
    "v200 = np.random.randint(2, 10, size=len(D200)) \n",
    "\n",
    "v200 = v200 / np.linalg.norm(v200)\n",
    "\n",
    "# Matriz de Householder\n",
    "v200 = np.reshape(v200, (len(D200),1))\n",
    "\n",
    "B200 = np.eye(D200.shape[0]) - 2 * (v200 @ v200.T)\n",
    "\n",
    "# Matriz a diagonalizar\n",
    "M200 = B200.T @ D200 @ B200\n",
    "\n",
    "w200, V200 = eigen(M200)\n",
    "\n",
    "\n",
    "for i in range(len(M200)):\n",
    "    print(np.allclose(M200 @ V200[:, i], w200[i] * V200[:,i]))"
   ]
  },
  {
   "cell_type": "markdown",
   "metadata": {},
   "source": [
    "### Puebas de que anda el c++"
   ]
  },
  {
   "cell_type": "code",
   "execution_count": 14,
   "metadata": {},
   "outputs": [],
   "source": [
    "%%bash\n",
    "\n",
    "g++ -o ./pruebas-txt/prueba met_potencia.cpp -std=c++11 -I Eigen"
   ]
  },
  {
   "cell_type": "markdown",
   "metadata": {},
   "source": [
    "##### 2x2\n"
   ]
  },
  {
   "cell_type": "code",
   "execution_count": 16,
   "metadata": {},
   "outputs": [],
   "source": [
    "D_2 = np.diag([1, 2])\n",
    "\n",
    "v_2 = np.random.randint(2, 10, size=len(D_2)) \n",
    "\n",
    "v_2 = v_2 / np.linalg.norm(v_2)\n",
    "\n",
    "# Matriz de Householder\n",
    "v_2 = np.reshape(v_2, (len(D_2),1))\n",
    "\n",
    "B_2 = np.eye(D_2.shape[0]) - 2 * (v_2 @ v_2.T)\n",
    "\n",
    "# Matriz a diagonalizar\n",
    "M_2 = B_2.T @ D_2 @ B_2\n",
    "\n",
    "!rm pruebas-txt/prueba2x2.txt\n",
    "with open('pruebas-txt/prueba2x2.txt','a') as f:\n",
    "    f.write(f\"{M_2.shape[0]} {M_2.shape[1]}\\n\") #Tamaño de la matriz\n",
    "    np.savetxt(f, M_2, newline=\"\\n\")\n"
   ]
  },
  {
   "cell_type": "code",
   "execution_count": 17,
   "metadata": {},
   "outputs": [],
   "source": [
    "%%bash\n",
    "\n",
    "./pruebas-txt/prueba ./pruebas-txt/prueba2x2.txt > ./pruebas-txt/prueba2x2out.txt"
   ]
  },
  {
   "cell_type": "code",
   "execution_count": 18,
   "metadata": {},
   "outputs": [
    {
     "name": "stdout",
     "output_type": "stream",
     "text": [
      "22.0\n",
      "True\n",
      "2.0\n",
      "True\n"
     ]
    }
   ],
   "source": [
    "arr_2 = np.loadtxt('./pruebas-txt/prueba2x2out.txt')\n",
    "\n",
    "w_2 = arr_2[1]\n",
    "V_2 = np.delete(arr_2, [0, 1], axis=0)\n",
    "\n",
    "\n",
    "for i in range(len(M_2)):\n",
    "    print(arr_2[0][i])\n",
    "    print(np.allclose(M_2 @ V_2[:, i], w_2[i] * V_2[:,i]))\n"
   ]
  },
  {
   "cell_type": "markdown",
   "metadata": {},
   "source": [
    "#### 3x3\n",
    "\n"
   ]
  },
  {
   "cell_type": "code",
   "execution_count": 20,
   "metadata": {},
   "outputs": [],
   "source": [
    "D_3 = np.diag([6, 1, 2])\n",
    "\n",
    "v_3 = np.random.randint(2, 10, size=len(D_3)) \n",
    "\n",
    "v_3 = v_3 / np.linalg.norm(v_3)\n",
    "\n",
    "# Matriz de Householder\n",
    "v_3 = np.reshape(v_3, (len(D_3),1))\n",
    "\n",
    "B_3 = np.eye(D_3.shape[0]) - 2 * (v_3 @ v_3.T)\n",
    "\n",
    "# Matriz a diagonalizar\n",
    "M_3 = B_3.T @ D_3 @ B_3\n",
    "\n",
    "!rm pruebas-txt/prueba3x3.txt\n",
    "with open('pruebas-txt/prueba3x3.txt','a') as f:\n",
    "    f.write(f\"{M_3.shape[0]} {M_3.shape[1]}\\n\") #Tamaño de la matriz\n",
    "    np.savetxt(f, M_3, newline=\"\\n\")"
   ]
  },
  {
   "cell_type": "code",
   "execution_count": 21,
   "metadata": {},
   "outputs": [],
   "source": [
    "%%bash\n",
    "\n",
    "./pruebas-txt/prueba ./pruebas-txt/prueba3x3.txt > ./pruebas-txt/prueba3x3out.txt"
   ]
  },
  {
   "cell_type": "code",
   "execution_count": 22,
   "metadata": {},
   "outputs": [
    {
     "name": "stdout",
     "output_type": "stream",
     "text": [
      "15.0\n",
      "True\n",
      "20.0\n",
      "True\n",
      "2.0\n",
      "True\n"
     ]
    }
   ],
   "source": [
    "arr_3 = np.loadtxt('./pruebas-txt/prueba3x3out.txt')\n",
    "\n",
    "w_3 = arr_3[1]\n",
    "V_3 = np.delete(arr_3, [0, 1], axis=0)\n",
    "\n",
    "\n",
    "for i in range(len(M_3)):\n",
    "    print(arr_3[0][i])\n",
    "    print(np.allclose(M_3 @ V_3[:, i], w_3[i] * V_3[:,i], atol=1e-6))"
   ]
  },
  {
   "cell_type": "markdown",
   "metadata": {},
   "source": [
    "#### 5x5"
   ]
  },
  {
   "cell_type": "code",
   "execution_count": 23,
   "metadata": {},
   "outputs": [
    {
     "name": "stdout",
     "output_type": "stream",
     "text": [
      "rm: cannot remove 'pruebas-txt/prueba5x5.txt': No such file or directory\n"
     ]
    }
   ],
   "source": [
    "# me creo el txt para el c++\n",
    "D_5 = np.diag([1, 10, 6, 2, 3])\n",
    "\n",
    "v_5 = np.random.randint(2, 10, size=len(D_5)) \n",
    "\n",
    "v_5 = v_5 / np.linalg.norm(v_5)\n",
    "\n",
    "# Matriz de Householder\n",
    "v_5 = np.reshape(v_5, (len(D_5),1))\n",
    "\n",
    "B_5 = np.eye(D_5.shape[0]) - 2 * (v_5 @ v_5.T)\n",
    "\n",
    "# Matriz a diagonalizar\n",
    "M_5 = B_5.T @ D_5 @ B_5\n",
    "\n",
    "!rm pruebas-txt/prueba5x5.txt\n",
    "with open('pruebas-txt/prueba5x5.txt','a') as f:\n",
    "    f.write(f\"{M_5.shape[0]} {M_5.shape[1]}\\n\") #Tamaño de la matriz\n",
    "    np.savetxt(f, M_5, newline=\"\\n\")\n"
   ]
  },
  {
   "cell_type": "code",
   "execution_count": 25,
   "metadata": {},
   "outputs": [],
   "source": [
    "%%bash\n",
    "\n",
    "./pruebas-txt/prueba ./pruebas-txt/prueba5x5.txt > ./pruebas-txt/prueba5x5out.txt"
   ]
  },
  {
   "cell_type": "code",
   "execution_count": 27,
   "metadata": {},
   "outputs": [
    {
     "name": "stdout",
     "output_type": "stream",
     "text": [
      "21.0\n",
      "True\n",
      "23.0\n",
      "True\n",
      "42.0\n",
      "False\n",
      "22.0\n",
      "True\n",
      "2.0\n",
      "True\n"
     ]
    }
   ],
   "source": [
    "arr_5 = np.loadtxt('./pruebas-txt/prueba5x5out.txt')\n",
    "\n",
    "w_5 = arr_5[1]\n",
    "V_5 = np.delete(arr_5, [0, 1], axis=0)\n",
    "\n",
    "for i in range(len(M_5)):\n",
    "    print(arr_5[0][i])\n",
    "    print(np.allclose(M_5 @ V_5[:, i], w_5[i] * V_5[:,i]))"
   ]
  },
  {
   "cell_type": "markdown",
   "metadata": {},
   "source": [
    "#### Una más grande"
   ]
  },
  {
   "cell_type": "code",
   "execution_count": 29,
   "metadata": {},
   "outputs": [],
   "source": [
    "arr = random.sample(range(500), 100)\n",
    "\n",
    "D = np.diag(arr)\n",
    "\n",
    "v = np.random.randint(2, 10, size=len(D)) \n",
    "\n",
    "v = v / np.linalg.norm(v)\n",
    "\n",
    "# Matriz de Householder\n",
    "v = np.reshape(v, (len(D),1))\n",
    "\n",
    "B = np.eye(D.shape[0]) - 2 * (v @ v.T)\n",
    "\n",
    "# Matriz a diagonalizar\n",
    "M = B.T @ D @ B\n",
    "\n",
    "!rm pruebas-txt/prueba200x200.txt\n",
    "with open('pruebas-txt/prueba200x200.txt','a') as f:\n",
    "    f.write(f\"{M.shape[0]} {M.shape[1]}\\n\") #Tamaño de la matriz\n",
    "    np.savetxt(f,M, newline=\"\\n\")\n"
   ]
  },
  {
   "cell_type": "code",
   "execution_count": 30,
   "metadata": {},
   "outputs": [],
   "source": [
    "%%bash\n",
    "\n",
    "./pruebas-txt/prueba ./pruebas-txt/prueba200x200.txt > ./pruebas-txt/prueba200x200out.txt"
   ]
  },
  {
   "cell_type": "code",
   "execution_count": 133,
   "metadata": {},
   "outputs": [
    {
     "name": "stdout",
     "output_type": "stream",
     "text": [
      "True\n",
      "True\n",
      "True\n",
      "True\n",
      "True\n",
      "True\n",
      "True\n",
      "True\n",
      "True\n",
      "True\n",
      "True\n",
      "True\n",
      "True\n",
      "True\n",
      "True\n",
      "True\n",
      "True\n",
      "True\n",
      "True\n",
      "True\n",
      "True\n",
      "True\n",
      "True\n",
      "True\n",
      "True\n",
      "True\n",
      "True\n",
      "True\n",
      "True\n",
      "True\n",
      "True\n",
      "True\n",
      "True\n",
      "True\n",
      "True\n",
      "True\n",
      "True\n",
      "True\n",
      "True\n",
      "True\n",
      "True\n",
      "True\n",
      "True\n",
      "True\n",
      "True\n",
      "True\n",
      "True\n",
      "True\n",
      "True\n",
      "True\n",
      "True\n",
      "True\n",
      "True\n",
      "True\n",
      "True\n",
      "True\n",
      "True\n",
      "True\n",
      "True\n",
      "True\n",
      "True\n",
      "True\n",
      "True\n",
      "True\n",
      "True\n",
      "True\n",
      "True\n",
      "True\n",
      "True\n",
      "True\n",
      "True\n",
      "True\n",
      "True\n",
      "True\n",
      "True\n",
      "True\n",
      "True\n",
      "True\n",
      "True\n",
      "True\n",
      "True\n",
      "True\n",
      "True\n",
      "True\n",
      "True\n",
      "True\n",
      "True\n",
      "True\n",
      "True\n",
      "True\n",
      "True\n",
      "True\n",
      "True\n",
      "True\n",
      "True\n",
      "True\n",
      "True\n",
      "True\n",
      "True\n",
      "True\n"
     ]
    }
   ],
   "source": [
    "arr = np.loadtxt('./pruebas-txt/prueba200x200out.txt')\n",
    "\n",
    "w = arr[1]\n",
    "V = np.delete(arr, [0, 1], axis=0)\n",
    "\n",
    "\n",
    "for i in range(len(M)):\n",
    "    print(np.allclose(M @ V[:, i], w[i] * V[:,i]))"
   ]
  }
 ],
 "metadata": {
  "kernelspec": {
   "display_name": "usr",
   "language": "python",
   "name": "python3"
  },
  "language_info": {
   "codemirror_mode": {
    "name": "ipython",
    "version": 3
   },
   "file_extension": ".py",
   "mimetype": "text/x-python",
   "name": "python",
   "nbconvert_exporter": "python",
   "pygments_lexer": "ipython3",
   "version": "3.10.12"
  }
 },
 "nbformat": 4,
 "nbformat_minor": 2
}
