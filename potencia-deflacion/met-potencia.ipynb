{
 "cells": [
  {
   "cell_type": "code",
   "execution_count": null,
   "metadata": {},
   "outputs": [],
   "source": [
    "import numpy as np\n",
    "from numpy import linalg as LA"
   ]
  },
  {
   "cell_type": "markdown",
   "metadata": {},
   "source": [
    "### Método de la potencia con deflación\n"
   ]
  },
  {
   "cell_type": "code",
   "execution_count": null,
   "metadata": {},
   "outputs": [],
   "source": [
    "def power_iteration(A, niter=10_000, eps=1e-7):\n",
    "\n",
    "  v = np.random.randint(1, 10, size=len(A)) \n",
    "\n",
    "  for i in range(0, niter):\n",
    "    v_viejo = v\n",
    "    v = np.dot(A, v) / np.linalg.norm(np.dot(A, v))\n",
    "    a = (v.T @ A @ v) / (v.T @ v)\n",
    "    \n",
    "    if np.linalg.norm(v - v_viejo, np.inf) < eps: # Criterio de parada\n",
    "      break\n",
    "  return a, v\n"
   ]
  },
  {
   "cell_type": "code",
   "execution_count": null,
   "metadata": {},
   "outputs": [],
   "source": [
    "def eigen(A):\n",
    "    A = A.copy()\n",
    "    eigenvalues = []\n",
    "    eigenvectors = np.zeros((A.shape[0], len(A)))\n",
    "\n",
    "    for i in range(len(A)):\n",
    "        a, v = power_iteration(A, 10000) # Uso metodo de la potencia para calcular lambda y autovector\n",
    "        eigenvalues.append(a) # Agrego el lambda\n",
    "        eigenvectors[:, i] = v # Agrego el vector como columna\n",
    "\n",
    "        # Deflación: actualizamos la matriz A\n",
    "        A = A - (a * np.outer(v,v))  # \"Achico\" la matriz, autovalores calculados no sean los mas grandes, np.outer\n",
    "\n",
    "    return np.array(eigenvalues), eigenvectors\n"
   ]
  }
 ],
 "metadata": {
  "kernelspec": {
   "display_name": "Python 3",
   "language": "python",
   "name": "python3"
  },
  "language_info": {
   "codemirror_mode": {
    "name": "ipython",
    "version": 3
   },
   "file_extension": ".py",
   "mimetype": "text/x-python",
   "name": "python",
   "nbconvert_exporter": "python",
   "pygments_lexer": "ipython3",
   "version": "3.10.12"
  }
 },
 "nbformat": 4,
 "nbformat_minor": 2
}
